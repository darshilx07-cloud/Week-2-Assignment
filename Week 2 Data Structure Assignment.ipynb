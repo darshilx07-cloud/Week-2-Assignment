{
 "cells": [
  {
   "cell_type": "markdown",
   "id": "ab6c11a4-c1a3-40b9-b36e-8c6b4756d616",
   "metadata": {},
   "source": [
    "# Data Types and Structures Questions & Answers"
   ]
  },
  {
   "cell_type": "raw",
   "id": "b0202999-fe54-4c0b-9667-68e7fcc085d3",
   "metadata": {},
   "source": []
  },
  {
   "cell_type": "markdown",
   "id": "43fa8f10-dd77-4bcf-9099-32a76f3e4eeb",
   "metadata": {},
   "source": [
    "####  1. What are data structures, and why are they important?\n",
    "Ans.  Data structures are specialized formats for organizing, processing, storing, and retrieving data. They define the relationship between data elements and the operations that can be performed on them."
   ]
  },
  {
   "cell_type": "raw",
   "id": "e521af3d-04cf-4e78-ac63-c9b1347a0f61",
   "metadata": {},
   "source": []
  },
  {
   "cell_type": "markdown",
   "id": "137dae89-23f5-4e75-ba58-a54e5b96c22b",
   "metadata": {},
   "source": [
    "#### 2. Explain the difference between mutable and immutable data types with examples?\n",
    "\n",
    "##### Ans.  \n",
    "\n",
    "##### Mutable Data Types (Can Be Changed)\n",
    "\n",
    "->  Mutable objects can be modified in place. That means you can change their content without changing their identity (memory address).\n",
    "\n",
    "#####  Immutable Data Types (Cannot Be Changed)\n",
    "\n",
    "->  Immutable objects cannot be changed after they are created. Any modification results in the creation of a new object."
   ]
  },
  {
   "cell_type": "code",
   "execution_count": 1,
   "id": "7edd7463-7092-402c-b165-fc8264fbb527",
   "metadata": {},
   "outputs": [
    {
     "name": "stdout",
     "output_type": "stream",
     "text": [
      "[10, 2, 3]\n"
     ]
    }
   ],
   "source": [
    "#For Example :\n",
    "\n",
    "#Mutable :\n",
    "\n",
    "my_list = [1, 2, 3]\n",
    "my_list[0] = 10\n",
    "print(my_list)  # Output: [10, 2, 3]\n"
   ]
  },
  {
   "cell_type": "code",
   "execution_count": 5,
   "id": "806da4ed-7c9d-4236-8c6b-ced95d113a84",
   "metadata": {},
   "outputs": [
    {
     "ename": "TypeError",
     "evalue": "'tuple' object does not support item assignment",
     "output_type": "error",
     "traceback": [
      "\u001b[31m---------------------------------------------------------------------------\u001b[39m",
      "\u001b[31mTypeError\u001b[39m                                 Traceback (most recent call last)",
      "\u001b[36mCell\u001b[39m\u001b[36m \u001b[39m\u001b[32mIn[5]\u001b[39m\u001b[32m, line 4\u001b[39m\n\u001b[32m      1\u001b[39m \u001b[38;5;66;03m#Immutable :\u001b[39;00m\n\u001b[32m      3\u001b[39m my_str = (\u001b[32m10\u001b[39m, \u001b[32m20\u001b[39m, \u001b[32m30\u001b[39m)\n\u001b[32m----> \u001b[39m\u001b[32m4\u001b[39m \u001b[43mmy_str\u001b[49m\u001b[43m[\u001b[49m\u001b[32;43m0\u001b[39;49m\u001b[43m]\u001b[49m = \u001b[32m100\u001b[39m\n\u001b[32m      5\u001b[39m \u001b[38;5;28mprint\u001b[39m(my_str)      \u001b[38;5;66;03m#Output: error because it is tuple and it is immutable\u001b[39;00m\n",
      "\u001b[31mTypeError\u001b[39m: 'tuple' object does not support item assignment"
     ]
    }
   ],
   "source": [
    "#Immutable :\n",
    "\n",
    "my_str = (10, 20, 30)\n",
    "my_str[0] = 100\n",
    "print(my_str)      #Output: error because it is tuple and it is immutable\n"
   ]
  },
  {
   "cell_type": "raw",
   "id": "6a189578-ac4f-45af-958a-c7076efd5f7a",
   "metadata": {},
   "source": []
  },
  {
   "cell_type": "markdown",
   "id": "c6952941-8981-4de1-8bd9-8031d8d1c29a",
   "metadata": {},
   "source": [
    "#### 3. What are the main differences between lists and tuples in Python?\n",
    "\n",
    "Ans.  The main difference between lists and tuples in Python is that lists are mutable, meaning their contents can be changed after creation, while tuples are immutable, meaning their contents cannot be modified once defined. "
   ]
  },
  {
   "cell_type": "raw",
   "id": "bc68247d-80fb-497e-9775-1fd18b1ac5c3",
   "metadata": {},
   "source": []
  },
  {
   "cell_type": "markdown",
   "id": "3c7ea163-9fe4-443f-8dae-36a73a389e14",
   "metadata": {},
   "source": [
    "#### 4. Describe how dictionaries store data?\n",
    "\n",
    "Ans.  In Python, dictionaries store data as key-value pairs. Each key is unique and maps to a corresponding value. This structure allows for fast and efficient data lookup, insertion, and deletion based on the key.\n"
   ]
  },
  {
   "cell_type": "raw",
   "id": "a301d662-ebe8-4e02-a596-108c37d9de99",
   "metadata": {},
   "source": []
  },
  {
   "cell_type": "markdown",
   "id": "2f29e254-f4e6-4b7b-a5c0-46d11de459af",
   "metadata": {},
   "source": [
    "#### 5.  Why might you use a set instead of a list in Python?\n",
    "\n",
    "Ans. You might use a set instead of a list in Python when you need to store unique items and perform fast membership testing (checking if an item is present). Sets are designed for situations where duplicates are not allowed and order does not matter."
   ]
  },
  {
   "cell_type": "raw",
   "id": "edd419f8-4322-4877-80b6-b82578e7fad5",
   "metadata": {},
   "source": []
  },
  {
   "cell_type": "markdown",
   "id": "f8eb5f7d-fa26-4f59-87b6-f7e602806366",
   "metadata": {},
   "source": [
    "####  6. What is a string in Python, and how is it different from a list?\n",
    "\n",
    "Ans.  A string in Python is a sequence of characters enclosed in quotes, used to represent text. You can define a string using single ('), double (\"), or triple quotes (''' or \"\"\") for multi-line text."
   ]
  },
  {
   "cell_type": "raw",
   "id": "24a75d31-8ad9-4dec-b159-e0f3d2d9d14d",
   "metadata": {},
   "source": []
  },
  {
   "cell_type": "markdown",
   "id": "b6cc6523-213f-460b-bf10-0ac7c1433e0f",
   "metadata": {},
   "source": [
    "#### 7.  How do tuples ensure data integrity in Python?\n",
    "\n",
    "Ans. Tuples ensure data integrity in Python by being immutable, which means that once a tuple is created, its content cannot be changed, added to, or removed from. This immutability provides a level of protection, making tuples ideal for storing fixed sets of data that should remain constant throughout the program."
   ]
  },
  {
   "cell_type": "raw",
   "id": "8fbb1ae4-8ba1-47ae-8555-a73bbbe029ad",
   "metadata": {},
   "source": []
  },
  {
   "cell_type": "markdown",
   "id": "817fd637-5162-41ba-9242-a04c2f12908c",
   "metadata": {},
   "source": [
    "#### 8. What is a hash table, and how does it relate to dictionaries in Python?\n",
    "\n",
    "Ans.  A hash table is a data structure that stores key-value pairs and uses a hash function to compute an index (or location) in an internal array where each value is stored. This allows for very fast data retrieval—typically in constant time, O,1."
   ]
  },
  {
   "cell_type": "raw",
   "id": "2665b18c-060a-4c6d-9112-930771795372",
   "metadata": {},
   "source": []
  },
  {
   "cell_type": "markdown",
   "id": "628103de-f27b-4056-99da-f4b492d0c836",
   "metadata": {},
   "source": [
    "#### 9.  Can lists contain different data types in Python?\n",
    "\n",
    "Ans. Yes, lists in Python can contain different data types. Python lists are heterogeneous, meaning they can store a mix of integers, strings, floats, booleans, other lists, and even custom objects"
   ]
  },
  {
   "cell_type": "raw",
   "id": "fee08a36-0863-46e8-9458-b66eb4abbb48",
   "metadata": {},
   "source": []
  },
  {
   "cell_type": "markdown",
   "id": "78500452-5946-45bc-9ad9-17d836de8db2",
   "metadata": {},
   "source": [
    "#### 10.  Explain why strings are immutable in Python?\n",
    "\n",
    "Ans. Strings are immutable in Python to ensure data integrity, improve performance, and support safe sharing of data across different parts of a program."
   ]
  },
  {
   "cell_type": "raw",
   "id": "e399826a-0f88-4a34-8d41-2372c0ac1b42",
   "metadata": {},
   "source": []
  },
  {
   "cell_type": "markdown",
   "id": "adf29753-1958-4b50-9c7d-4cdd23d602a4",
   "metadata": {},
   "source": [
    "#### 11. What advantages do dictionaries offer over lists for certain tasks?\n",
    "\n",
    "Ans.  Dictionaries offer several advantages over lists for specific tasks, especially when key-value associations and fast lookup are important. Here's a breakdown of those advantages:\n",
    "\n",
    "        1. Faster Lookups\n",
    "        2. Key-Based Access\n",
    "        3. Avoids Duplicates in Keys\n",
    "        "
   ]
  },
  {
   "cell_type": "raw",
   "id": "a1261630-2cfb-4c9f-9d0c-198ce4d2996d",
   "metadata": {},
   "source": []
  },
  {
   "cell_type": "markdown",
   "id": "bab45120-e2a6-4716-ac4c-7a17c130d969",
   "metadata": {},
   "source": [
    "#### 12. Describe a scenario where using a tuple would be preferable over a list?\n",
    "\n",
    "Ans. A tuple is preferable over a list when you need an immutable, fixed-size collection of items that should not change during the program’s execution.\n",
    "\n",
    "Benefits of tuple :\n",
    "\n",
    "        1. The structure of a transaction shouldn’t change.\n",
    "        2. Immutability protects against accidental modification.\n",
    "\n",
    "let as assume by example : "
   ]
  },
  {
   "cell_type": "code",
   "execution_count": 1,
   "id": "17523d77-84ad-4579-9cdd-7f1774364c26",
   "metadata": {},
   "outputs": [
    {
     "ename": "TypeError",
     "evalue": "'tuple' object does not support item assignment",
     "output_type": "error",
     "traceback": [
      "\u001b[31m---------------------------------------------------------------------------\u001b[39m",
      "\u001b[31mTypeError\u001b[39m                                 Traceback (most recent call last)",
      "\u001b[36mCell\u001b[39m\u001b[36m \u001b[39m\u001b[32mIn[1]\u001b[39m\u001b[32m, line 5\u001b[39m\n\u001b[32m      1\u001b[39m \u001b[38;5;66;03m#Employee of any organisation have his own Emp. ID which is not\u001b[39;00m\n\u001b[32m      2\u001b[39m \u001b[38;5;66;03m#editable, changable, or replacable.\u001b[39;00m\n\u001b[32m      4\u001b[39m Emp_ID = (\u001b[33m\"\u001b[39m\u001b[33mDarshil Mathur\u001b[39m\u001b[33m\"\u001b[39m, \u001b[32m10225\u001b[39m)    \u001b[38;5;66;03m#Employee ID with name.\u001b[39;00m\n\u001b[32m----> \u001b[39m\u001b[32m5\u001b[39m \u001b[43mEmp_ID\u001b[49m\u001b[43m[\u001b[49m\u001b[32;43m0\u001b[39;49m\u001b[43m]\u001b[49m = \u001b[33m\"\u001b[39m\u001b[33mPrince Suthar\u001b[39m\u001b[33m\"\u001b[39m           \u001b[38;5;66;03m#Employee left the job, now update the name.\u001b[39;00m\n\u001b[32m      6\u001b[39m                                       \u001b[38;5;66;03m#Output : it will show an \"TypeError\"\u001b[39;00m\n",
      "\u001b[31mTypeError\u001b[39m: 'tuple' object does not support item assignment"
     ]
    }
   ],
   "source": [
    "#Employee of any organisation have his own Emp. ID which is not\n",
    "#editable, changable, or replacable.\n",
    "\n",
    "Emp_ID = (\"Darshil Mathur\", 10225)    #Employee ID with name.\n",
    "Emp_ID[0] = \"Prince Suthar\"           #Employee left the job, now update the name.\n",
    "                                      #Output : it will show an \"TypeError\""
   ]
  },
  {
   "cell_type": "raw",
   "id": "8817d307-0700-46b7-9fd4-6658a669eab5",
   "metadata": {},
   "source": []
  },
  {
   "cell_type": "markdown",
   "id": "2e92a170-4e6c-493d-8c2f-d27278e2a83f",
   "metadata": {},
   "source": [
    "#### 13. How do sets handle duplicate values in Python?\n",
    "\n",
    "Ans. In Python, sets automatically eliminate duplicate values.\n",
    "\n",
    "        1. A set is an unordered, mutable, collection of unique elements.\n",
    "        2. When you add duplicate values to a set, only one instance is kept.\n"
   ]
  },
  {
   "cell_type": "raw",
   "id": "4883e4b5-9ad4-4c44-a0e3-91ad29342a92",
   "metadata": {},
   "source": []
  },
  {
   "cell_type": "markdown",
   "id": "0f6cff66-61fc-45b7-b1f8-6b9f9ecdd284",
   "metadata": {},
   "source": [
    "#### 14. How does the “in” keyword work differently for lists and dictionaries?\n",
    "\n",
    "Ans. The \"in\" keyword in Python checks for membership, but it works differently depending on the data type:\n",
    "\n",
    "In a list, the \"in\" keyword checks whether a given value exists in the list.\n",
    "In a dictionary, the \"in\" keyword checks whether a given key exists in the dictionary (not the value)."
   ]
  },
  {
   "cell_type": "raw",
   "id": "1d69c5df-3fb5-4801-b7b5-dd8d97cfcb65",
   "metadata": {},
   "source": []
  },
  {
   "cell_type": "markdown",
   "id": "c194f35a-0043-4eb4-9e8e-4d0cc6e21f52",
   "metadata": {},
   "source": [
    "#### 15. Can you modify the elements of a tuple? Explain why or why not?\n",
    "\n",
    "Ans. No, you cannot modify the elements of a tuple in Python.\n",
    "\n",
    "##### Tuples are Immutable :\n",
    "\n",
    "A tuple is an immutable data structure, meaning once it's created, its contents cannot be changed.\n",
    "\n",
    "You cannot do :\n",
    "\n",
    "        1. Add new elements\n",
    "        2. Remove elements\n",
    "        3. Change existing elements\n",
    "       "
   ]
  },
  {
   "cell_type": "raw",
   "id": "2893aba0-c8c3-402e-931e-20a0b618e014",
   "metadata": {},
   "source": []
  },
  {
   "cell_type": "markdown",
   "id": "e069d45c-e43a-4679-9321-57544e2604e8",
   "metadata": {},
   "source": [
    "#### 16. What is a nested dictionary, and give an example of its use case?\n",
    "\n",
    "Ans. A nested dictionary is a dictionary within another dictionary. It allows you to organize and access hierarchical or multi-level data structures using key-value pairs at multiple levels."
   ]
  },
  {
   "cell_type": "raw",
   "id": "4c9cd9f8-30f1-4a5e-b0e6-4467edd9a190",
   "metadata": {},
   "source": []
  },
  {
   "cell_type": "markdown",
   "id": "ffd4acba-da08-4654-9c0e-f467cc80ea36",
   "metadata": {},
   "source": [
    "#### 17. Describe the time complexity of accessing elements in a dictionary?\n",
    "\n",
    "Ans. Dictionary access have average time complexity of 0(1) due to hashing.\n"
   ]
  },
  {
   "cell_type": "raw",
   "id": "efc0df54-6db0-4cd6-93fd-9df7f4138002",
   "metadata": {},
   "source": []
  },
  {
   "cell_type": "markdown",
   "id": "3fc7b425-52e6-40b9-a726-128fdb24fd88",
   "metadata": {},
   "source": [
    "#### 18. In what situations are lists preferred over dictionaries?\n",
    "\n",
    "Ans. Lists are preferred over dictionaries in Python in situations where order matters, elements are homogeneous or sequential, and when you primarily need simple, indexed access rather than key-based lookups. "
   ]
  },
  {
   "cell_type": "raw",
   "id": "527a907d-cd8a-4b88-9a3e-b28b3c2f2e93",
   "metadata": {},
   "source": []
  },
  {
   "cell_type": "markdown",
   "id": "076016e2-d433-4f86-bc3a-9fe00d74eee4",
   "metadata": {},
   "source": [
    "#### 19.  Why are dictionaries considered unordered, and how does that affect data retrieval?\n",
    "\n",
    "Ans. Dictionaries were historically unordered because of how hashing works, which meant unpredictable iteration order."
   ]
  },
  {
   "cell_type": "raw",
   "id": "f1d7cd28-334e-40a6-91ab-fabd53b9ba36",
   "metadata": {},
   "source": []
  },
  {
   "cell_type": "markdown",
   "id": "9da37e8d-2f84-4933-a795-60791f2394d6",
   "metadata": {},
   "source": [
    "#### 20.  Explain the difference between a list and a dictionary in terms of data retrieval?\n",
    "\n",
    "Ans. Lists use numeric indices to retrieve items; dictionaries use unique keys."
   ]
  },
  {
   "cell_type": "raw",
   "id": "a376e329-cea5-4cea-95e0-eb40f27b91dd",
   "metadata": {},
   "source": []
  },
  {
   "cell_type": "raw",
   "id": "527c3ba5-dda5-4b00-bfc1-c6212c795581",
   "metadata": {},
   "source": []
  },
  {
   "cell_type": "raw",
   "id": "c2e6f36b-4899-4669-a1db-2fb790440a80",
   "metadata": {},
   "source": []
  },
  {
   "cell_type": "markdown",
   "id": "7cfee2df-97ca-40d4-9c38-a2a5e0f25328",
   "metadata": {},
   "source": [
    "# Practical Questions & Answers"
   ]
  },
  {
   "cell_type": "raw",
   "id": "de4d7188-64fa-499e-a98d-738cef97d8c2",
   "metadata": {},
   "source": []
  },
  {
   "cell_type": "code",
   "execution_count": 3,
   "id": "3bcada05-9b04-4865-b2d7-727247f60a17",
   "metadata": {},
   "outputs": [
    {
     "name": "stdout",
     "output_type": "stream",
     "text": [
      "Darshil Mathur\n"
     ]
    }
   ],
   "source": [
    "#1. Write a code to create a string with your name and print it?\n",
    "\n",
    "name = (\"Darshil Mathur\")\n",
    "print(name)                  #Printing Name = \"Darshil Mathur\""
   ]
  },
  {
   "cell_type": "raw",
   "id": "465321ca-d543-4fe4-b936-4ef73c3a243a",
   "metadata": {},
   "source": []
  },
  {
   "cell_type": "code",
   "execution_count": 4,
   "id": "bfc658a6-43ea-4c70-86ac-44fef744cb74",
   "metadata": {},
   "outputs": [
    {
     "data": {
      "text/plain": [
       "11"
      ]
     },
     "execution_count": 4,
     "metadata": {},
     "output_type": "execute_result"
    }
   ],
   "source": [
    "#2. Write a code to find the length of the string \"Hello World\"?\n",
    "\n",
    "a = \"Hello World\"\n",
    "len(a)                     #Output : length of a = 11"
   ]
  },
  {
   "cell_type": "raw",
   "id": "f7e93809-1cee-40e2-8015-8c8315a1acdd",
   "metadata": {},
   "source": []
  },
  {
   "cell_type": "code",
   "execution_count": 5,
   "id": "553f4778-2bf4-4b0f-8bfb-d1d5a0d294bd",
   "metadata": {},
   "outputs": [
    {
     "data": {
      "text/plain": [
       "'hon Programming'"
      ]
     },
     "execution_count": 5,
     "metadata": {},
     "output_type": "execute_result"
    }
   ],
   "source": [
    "#3. Write a code to slice the first 3 characters from the string \"Python Programming\"?\n",
    "\n",
    "b = \"Python Programming\"\n",
    "b[3::]                      #Start after 3 characters of the string \"Python Programming\".\n",
    "                            #Output : 'hon Programming'"
   ]
  },
  {
   "cell_type": "raw",
   "id": "e21adc49-3874-4f3b-b75c-420901d89d2e",
   "metadata": {},
   "source": []
  },
  {
   "cell_type": "code",
   "execution_count": 6,
   "id": "65e5d698-2603-4702-a665-543486b56b56",
   "metadata": {},
   "outputs": [
    {
     "data": {
      "text/plain": [
       "'HELLO'"
      ]
     },
     "execution_count": 6,
     "metadata": {},
     "output_type": "execute_result"
    }
   ],
   "source": [
    "#4. Write a code to convert the string \"hello\" to uppercase?\n",
    "\n",
    "c = \"hello\"\n",
    "c.upper()            #Coverting string to lower case to Upper case."
   ]
  },
  {
   "cell_type": "raw",
   "id": "c4526974-33ee-409a-bef4-0fca10d4918b",
   "metadata": {},
   "source": []
  },
  {
   "cell_type": "code",
   "execution_count": 7,
   "id": "d61283fe-36c9-4954-80e4-f9112433e246",
   "metadata": {},
   "outputs": [
    {
     "data": {
      "text/plain": [
       "'I like orange'"
      ]
     },
     "execution_count": 7,
     "metadata": {},
     "output_type": "execute_result"
    }
   ],
   "source": [
    "#5. Write a code to replace the word \"apple\" with \"orange\" in the string \"I like apple\"?\n",
    "\n",
    "D = \"I like apple\"\n",
    "D.replace(\"apple\", \"orange\")    #replacing the word apple to orange from \"I like apple\"\n",
    "                                #Output = 'I like orange'"
   ]
  },
  {
   "cell_type": "raw",
   "id": "99a4f6f7-944b-4b7d-bab4-35678c729f8c",
   "metadata": {},
   "source": []
  },
  {
   "cell_type": "code",
   "execution_count": 14,
   "id": "c0fdcd72-aa40-47ad-9149-f5989cefae24",
   "metadata": {},
   "outputs": [
    {
     "name": "stdout",
     "output_type": "stream",
     "text": [
      "List = [1, 2, 3, 4, 5]\n"
     ]
    }
   ],
   "source": [
    "#6. Write a code to create a list with numbers 1 to 5 and print it?\n",
    "\n",
    "list1 = [1, 2, 3, 4, 5]\n",
    "print(\"List =\", list1)      #Output : List = [1, 2, 3, 4, 5]"
   ]
  },
  {
   "cell_type": "raw",
   "id": "ced05476-e7e2-4b9c-a7db-038301640207",
   "metadata": {},
   "source": []
  },
  {
   "cell_type": "code",
   "execution_count": 15,
   "id": "d5e224fc-fdab-49b8-b196-d0b05dc37386",
   "metadata": {},
   "outputs": [
    {
     "name": "stdout",
     "output_type": "stream",
     "text": [
      "List = [1, 2, 3, 4, 10]\n"
     ]
    }
   ],
   "source": [
    "#7.  Write a code to append the number 10 to the list [1, 2, 3, 4]?\n",
    "\n",
    "list2 = [1, 2, 3, 4]\n",
    "list2.append(10)\n",
    "print(\"List =\", list2)      #adding the number 10 to the list = [1, 2, 3, 4] \n",
    "[1, 2, 3, 4]                #Output : List = [1, 2, 3, 4, 10]"
   ]
  },
  {
   "cell_type": "raw",
   "id": "a2c94120-43d2-47e5-bdb1-9ad4e7d3832d",
   "metadata": {},
   "source": []
  },
  {
   "cell_type": "code",
   "execution_count": 16,
   "id": "ff421722-23ff-482b-8438-b7ebe4e6da67",
   "metadata": {},
   "outputs": [
    {
     "name": "stdout",
     "output_type": "stream",
     "text": [
      "List = [1, 2, 4, 5]\n"
     ]
    }
   ],
   "source": [
    "#8. Write a code to remove the number 3 from the list [1, 2, 3, 4, 5]?\n",
    "\n",
    "list3 = [1, 2, 3, 4, 5]\n",
    "list3.remove(3)                 #removing 3 from the list3 = [1, 2, 3, 4, 5]\n",
    "print(\"List =\", list3)          #Output : List = [1, 2, 4, 5]"
   ]
  },
  {
   "cell_type": "raw",
   "id": "f32e4e74-6355-4190-8108-c8095990f7a2",
   "metadata": {},
   "source": []
  },
  {
   "cell_type": "code",
   "execution_count": 19,
   "id": "64923acf-4df0-4d05-a11d-a359d7e649b0",
   "metadata": {},
   "outputs": [
    {
     "data": {
      "text/plain": [
       "'b'"
      ]
     },
     "execution_count": 19,
     "metadata": {},
     "output_type": "execute_result"
    }
   ],
   "source": [
    "#9. Write a code to access the second element in the list ['a', 'b', 'c', 'd']?\n",
    "\n",
    "list4 = ['a', 'b', 'c', 'd']\n",
    "list4[1]"
   ]
  },
  {
   "cell_type": "raw",
   "id": "caf6d245-d3dc-4261-b2b8-747f119a3ebb",
   "metadata": {},
   "source": []
  },
  {
   "cell_type": "code",
   "execution_count": 22,
   "id": "e798db0c-a7b2-4505-8065-c1b090d1da67",
   "metadata": {},
   "outputs": [
    {
     "data": {
      "text/plain": [
       "[50, 40, 30, 20, 10]"
      ]
     },
     "execution_count": 22,
     "metadata": {},
     "output_type": "execute_result"
    }
   ],
   "source": [
    "#10. Write a code to reverse the list [10, 20, 30, 40, 50]?\n",
    "\n",
    "list5 = [10, 20, 30, 40, 50]\n",
    "list5[::-1]"
   ]
  },
  {
   "cell_type": "raw",
   "id": "7c3f10db-53f2-4553-9be4-23f30d1bb47f",
   "metadata": {},
   "source": []
  },
  {
   "cell_type": "code",
   "execution_count": 23,
   "id": "876c37a3-8bd1-46f5-9c54-435f86483ab3",
   "metadata": {},
   "outputs": [
    {
     "name": "stdout",
     "output_type": "stream",
     "text": [
      "(100, 200, 300)\n"
     ]
    }
   ],
   "source": [
    "#11. Write a code to create a tuple with the elements 100, 200, 300 and print it?\n",
    "\n",
    "tuple1 = (100, 200, 300)\n",
    "print(tuple1)"
   ]
  },
  {
   "cell_type": "code",
   "execution_count": 24,
   "id": "fa982ad4-0152-45e9-8cef-de946ec04c60",
   "metadata": {},
   "outputs": [
    {
     "data": {
      "text/plain": [
       "('green', 'blue', 'yellow')"
      ]
     },
     "execution_count": 24,
     "metadata": {},
     "output_type": "execute_result"
    }
   ],
   "source": [
    "#12.  Write a code to access the second-to-last element of the tuple ('red', 'green', 'blue', 'yellow')?\n",
    "\n",
    "tuple2 = ('red', 'green', 'blue', 'yellow')\n",
    "tuple2[1::]"
   ]
  },
  {
   "cell_type": "raw",
   "id": "e2e0258f-a2af-4d67-9f58-0117f04e3a30",
   "metadata": {},
   "source": []
  },
  {
   "cell_type": "code",
   "execution_count": 27,
   "id": "6ec455b3-7445-4615-b110-fda633396254",
   "metadata": {},
   "outputs": [
    {
     "data": {
      "text/plain": [
       "5"
      ]
     },
     "execution_count": 27,
     "metadata": {},
     "output_type": "execute_result"
    }
   ],
   "source": [
    "#13. Write a code to find the minimum number in the tuple (10, 20, 5, 15)?\n",
    "\n",
    "tuple3 = (10, 20, 5, 15)\n",
    "min(tuple3)                   #output : minimum value from tuple3 is 5."
   ]
  },
  {
   "cell_type": "raw",
   "id": "e3910805-e46e-483d-9ffb-818eacda4103",
   "metadata": {},
   "source": []
  },
  {
   "cell_type": "code",
   "execution_count": 29,
   "id": "170e27f2-6372-4c91-9788-c27a4da40b9e",
   "metadata": {},
   "outputs": [
    {
     "data": {
      "text/plain": [
       "1"
      ]
     },
     "execution_count": 29,
     "metadata": {},
     "output_type": "execute_result"
    }
   ],
   "source": [
    "#14. Write a code to find the index of the element \"cat\" in the tuple ('dog', 'cat', 'rabbit')?\n",
    "\n",
    "tuple4 = ('dog', 'cat', 'rabbit')\n",
    "tuple4.index(\"cat\")       #output : \"cat\" index = 1"
   ]
  },
  {
   "cell_type": "raw",
   "id": "c9d0dc3a-0e46-4a7d-a4cf-a5c2f85fcc71",
   "metadata": {},
   "source": []
  },
  {
   "cell_type": "code",
   "execution_count": 32,
   "id": "2c9e48ba-1619-4288-9329-90875d2625f9",
   "metadata": {},
   "outputs": [
    {
     "data": {
      "text/plain": [
       "True"
      ]
     },
     "execution_count": 32,
     "metadata": {},
     "output_type": "execute_result"
    }
   ],
   "source": [
    "#15. Write a code to create a tuple containing three different fruits and check if \"kiwi\" is in it?\n",
    "\n",
    "tuple5 = (\"Mango\", \"Orange\", \"Kiwi\")   #plathora of fruits in mom's basket\n",
    "\"Kiwi\" in tuple5                       #membership operator\n",
    "                                       #output : True"
   ]
  },
  {
   "cell_type": "raw",
   "id": "c58a0199-f71c-4087-8e48-2f48449da4c3",
   "metadata": {},
   "source": []
  },
  {
   "cell_type": "code",
   "execution_count": 34,
   "id": "7d944a1d-710f-44fa-821d-1f0944825f1d",
   "metadata": {},
   "outputs": [
    {
     "name": "stdout",
     "output_type": "stream",
     "text": [
      "{'c', 'b', 'a'}\n"
     ]
    }
   ],
   "source": [
    "#16. Write a code to create a set with the elements 'a', 'b', 'c' and print it?\n",
    "\n",
    "set1 = {'a', 'b', 'c'}      #Set is a unique identity, it will shuffle the elements.\n",
    "print(set1)                 #output : unkown sequence of {'a', 'b', 'c'}  "
   ]
  },
  {
   "cell_type": "raw",
   "id": "bbbc978c-4323-435b-873f-02f6a1fcca2b",
   "metadata": {},
   "source": []
  },
  {
   "cell_type": "code",
   "execution_count": 39,
   "id": "56c77608-5a6c-433b-bbfe-0b273bc01c26",
   "metadata": {},
   "outputs": [
    {
     "data": {
      "text/plain": [
       "set()"
      ]
     },
     "execution_count": 39,
     "metadata": {},
     "output_type": "execute_result"
    }
   ],
   "source": [
    "#17.  Write a code to clear all elements from the set {1, 2, 3, 4, 5}?\n",
    "\n",
    "set2 = {1, 2, 3, 4, 5}\n",
    "set2.clear()             \n",
    "set2                    #output : now set2's elements is removed from the memory block."
   ]
  },
  {
   "cell_type": "raw",
   "id": "8848d9bf-c883-4ed9-8b09-bde5c6699789",
   "metadata": {},
   "source": []
  },
  {
   "cell_type": "code",
   "execution_count": 41,
   "id": "2906992b-dc78-4332-bf18-53298560fc22",
   "metadata": {},
   "outputs": [
    {
     "data": {
      "text/plain": [
       "{1, 2, 3}"
      ]
     },
     "execution_count": 41,
     "metadata": {},
     "output_type": "execute_result"
    }
   ],
   "source": [
    "#18. Write a code to remove the element 4 from the set {1, 2, 3, 4}?\n",
    "\n",
    "set3 = {1, 2, 3, 4}\n",
    "set3.remove(4) \n",
    "set3                       #Output : element 4 is removed from the set3."
   ]
  },
  {
   "cell_type": "raw",
   "id": "286d03e8-915c-4c52-9a4b-e09782ce76d2",
   "metadata": {},
   "source": []
  },
  {
   "cell_type": "code",
   "execution_count": 44,
   "id": "0a731232-d628-4311-a951-d630f0fe0cfd",
   "metadata": {},
   "outputs": [
    {
     "data": {
      "text/plain": [
       "{1, 2, 3, 4, 5}"
      ]
     },
     "execution_count": 44,
     "metadata": {},
     "output_type": "execute_result"
    }
   ],
   "source": [
    "#19.  Write a code to find the union of two sets {1, 2, 3} and {3, 4, 5}?\n",
    "\n",
    "S1 = {1, 2, 3}           #Set 1 elements             \n",
    "S2 = {3, 4, 5}           #Set 2 elements\n",
    "S1.union(S2)             #Union : merge all elements together of S1 or S2\n",
    "                         #Output : {1, 2, 3, 4, 5}"
   ]
  },
  {
   "cell_type": "raw",
   "id": "6ab2e50c-8f9f-4a6d-a422-e6aa4b3090f5",
   "metadata": {},
   "source": []
  },
  {
   "cell_type": "code",
   "execution_count": 45,
   "id": "581e359b-dfc2-48de-9ba7-54dd43224b5e",
   "metadata": {},
   "outputs": [
    {
     "data": {
      "text/plain": [
       "{2, 3}"
      ]
     },
     "execution_count": 45,
     "metadata": {},
     "output_type": "execute_result"
    }
   ],
   "source": [
    "#20. Write a code to find the intersection of two sets {1, 2, 3} and {2, 3, 4}?\n",
    "\n",
    "S3 = {1, 2, 3}       #Set 3 elements \n",
    "S4 = {2, 3, 4}       #Set 4 elements\n",
    "S3.intersection(S4)  #Interrsection : It found the common elements of S3 & S4\n",
    "                     #Output : {2, 3}"
   ]
  },
  {
   "cell_type": "raw",
   "id": "6a012091-00d6-4fa3-ae44-8569043ab9e4",
   "metadata": {},
   "source": []
  },
  {
   "cell_type": "code",
   "execution_count": 50,
   "id": "a566359f-04c4-4c30-93b7-ab72d7c945fe",
   "metadata": {},
   "outputs": [
    {
     "name": "stdout",
     "output_type": "stream",
     "text": [
      "{'Name': 'Darshil Mathur', 'Age': '21', 'city': 'Ahmedabad, Gujarat'}\n"
     ]
    }
   ],
   "source": [
    "#21. Write a code to create a dictionary with the keys \"name\", \"age\", and \"city\", and print it?\n",
    "\n",
    "dict1 = {\"Name\": \"Darshil Mathur\", \"Age\": \"21\", \"city\": \"Ahmedabad, Gujarat\"}\n",
    "print(dict1)"
   ]
  },
  {
   "cell_type": "raw",
   "id": "66708a4d-c77b-4a0e-ac21-e34617f1c7e5",
   "metadata": {},
   "source": []
  },
  {
   "cell_type": "code",
   "execution_count": 51,
   "id": "566e0ed9-ae0a-4e5a-9ce4-e0dd271359f8",
   "metadata": {},
   "outputs": [
    {
     "data": {
      "text/plain": [
       "{'Name': 'Bob', 'Age': 22, 'Country': 'USA'}"
      ]
     },
     "execution_count": 51,
     "metadata": {},
     "output_type": "execute_result"
    }
   ],
   "source": [
    "#22. Write a code to add a new key-value pair \"country\": \"USA\" to the dictionary {'name': 'John', 'age': 25}.\n",
    "\n",
    "dict2 = {\"Name\": \"Bob\", \"Age\": 22}\n",
    "dict2[\"Country\"] = (\"USA\")\n",
    "dict2"
   ]
  },
  {
   "cell_type": "raw",
   "id": "1be79c4c-eba5-4b18-8616-0fc95b7e9f77",
   "metadata": {},
   "source": []
  },
  {
   "cell_type": "code",
   "execution_count": 52,
   "id": "e52ae3ac-a9db-4a88-8d3d-0817dc0dd163",
   "metadata": {},
   "outputs": [
    {
     "data": {
      "text/plain": [
       "'Alice'"
      ]
     },
     "execution_count": 52,
     "metadata": {},
     "output_type": "execute_result"
    }
   ],
   "source": [
    "#23. Write a code to access the value associated with the key \"name\" in the dictionary {'name': 'Alice', 'age': 30}.\n",
    "\n",
    "dict3 = {\"Name\":\"Alice\",\"Age\":30}\n",
    "dict3[\"Name\"]"
   ]
  },
  {
   "cell_type": "raw",
   "id": "50e9cf1c-16e1-48a0-9efa-9eecb69fd965",
   "metadata": {},
   "source": []
  },
  {
   "cell_type": "code",
   "execution_count": 53,
   "id": "43edce8d-9e07-472c-a222-ffd1b0d93ae6",
   "metadata": {},
   "outputs": [
    {
     "data": {
      "text/plain": [
       "{'Name': 'Bob', 'City': 'New York'}"
      ]
     },
     "execution_count": 53,
     "metadata": {},
     "output_type": "execute_result"
    }
   ],
   "source": [
    "#24. Write a code to remove the key \"age\" from the dictionary {'name': 'Bob', 'age': 22, 'city': 'New York'}?\n",
    "dict4 = {\"Name\":\"Bob\",\"Age\":22,\"City\":\"New York\"}\n",
    "dict4.pop(\"Age\")       \n",
    "dict4                   #removing age from dictonary 4."
   ]
  },
  {
   "cell_type": "raw",
   "id": "eda6898c-e086-473f-9e17-884da86f8ee2",
   "metadata": {},
   "source": []
  },
  {
   "cell_type": "code",
   "execution_count": 56,
   "id": "65a92e62-4667-4f90-95f6-36d565366cb4",
   "metadata": {},
   "outputs": [
    {
     "name": "stdout",
     "output_type": "stream",
     "text": [
      "Yes city is included in the dict5\n"
     ]
    }
   ],
   "source": [
    "#25. Write a code to check if the key \"city\" exists in the dictionary {'name': 'Alice', 'city': 'Paris'}?\n",
    "\n",
    "dict5 = {'name': 'Alice', 'city': 'Paris'}\n",
    "\n",
    "if \"city\" in dict5:\n",
    "    print(\"Yes city is included in the dict5\")\n",
    "else:\n",
    "    print(\"No, City is not included in the dictonary\")\n",
    "    "
   ]
  },
  {
   "cell_type": "raw",
   "id": "adb4aa6f-ea33-48b0-b3ba-3de1aa9a8760",
   "metadata": {},
   "source": []
  },
  {
   "cell_type": "code",
   "execution_count": 57,
   "id": "ec0b0af5-0135-40a9-b4d2-4a5759d98067",
   "metadata": {},
   "outputs": [
    {
     "name": "stdout",
     "output_type": "stream",
     "text": [
      "List = [2, 2.5, (2+9j), None, True, 'Darshil Mathur']\n",
      "Tuple = (1, 2, 3, 'Darshil', 'Prince', 'Divyansh')\n",
      "Dictonary = {'Name': 'Darshil Mathur', 'Age': '20', 'Gender': 'Male', 'City': 'Ahmedabad'}\n"
     ]
    }
   ],
   "source": [
    "#26.  Write a code to create a list, a tuple, and a dictionary, and print them all?\n",
    "\n",
    "List = [2, 2.5, 2+9j, None, True, \"Darshil Mathur\"]\n",
    "Tuple = (1, 2, 3, \"Darshil\", \"Prince\", \"Divyansh\")\n",
    "Dictonary = {\"Name\": \"Darshil Mathur\", \"Age\": \"20\", \"Gender\": \"Male\", \"City\": \"Ahmedabad\"}\n",
    "\n",
    "print(\"List =\", List)\n",
    "print(\"Tuple =\", Tuple)\n",
    "print(\"Dictonary =\", Dictonary)"
   ]
  },
  {
   "cell_type": "raw",
   "id": "ac57aa83-f549-428f-b52d-2b4d184c4dd6",
   "metadata": {},
   "source": []
  },
  {
   "cell_type": "code",
   "execution_count": 58,
   "id": "fcf54429-84df-4f10-a358-d5931ecc68e1",
   "metadata": {},
   "outputs": [
    {
     "name": "stdout",
     "output_type": "stream",
     "text": [
      "Sorted List = [1, 3, 6, 64, 72]\n"
     ]
    }
   ],
   "source": [
    "#27.  Write a code to create a list of 5 random numbers between 1 and 100, sort it in ascending order, and print the result.(replaced)?\n",
    "\n",
    "import random \n",
    "\n",
    "Numbers = random.sample(range(1, 101), 5)\n",
    "Numbers.sort()\n",
    "print(\"Sorted List =\", Numbers)"
   ]
  },
  {
   "cell_type": "raw",
   "id": "a78726d1-1fa6-4ed5-80cb-8191e0354e71",
   "metadata": {},
   "source": []
  },
  {
   "cell_type": "code",
   "execution_count": 61,
   "id": "a94e129e-a203-41fb-a585-6cc96f7f8bc7",
   "metadata": {},
   "outputs": [
    {
     "data": {
      "text/plain": [
       "'Mango'"
      ]
     },
     "execution_count": 61,
     "metadata": {},
     "output_type": "execute_result"
    }
   ],
   "source": [
    "#28.  Write a code to create a list with strings and print the element at the third index?\n",
    "\n",
    "Fruits=[\"Apple\",\"Kiwi\",\"Banana\",\"Mango\",\"Grapes\"]\n",
    "Fruits[3]"
   ]
  },
  {
   "cell_type": "code",
   "execution_count": 66,
   "id": "12a46e3e-b3f6-4b33-afd6-13e86f50708b",
   "metadata": {},
   "outputs": [
    {
     "name": "stdout",
     "output_type": "stream",
     "text": [
      "{'Name': 'Darshil Mathur', 'Age': 21, 'Country': 'India', 'City': 'Ahmedabad'}\n"
     ]
    }
   ],
   "source": [
    "#29. Write a code to combine two dictionaries into one and print the result?\n",
    "\n",
    "Dict1 = {\"Name\": \"Darshil Mathur\",\"Age\":21}\n",
    "Dict2 = {\"Country\":\"India\",\"City\":\"Ahmedabad\"}\n",
    "dict = {**Dict1, **Dict2}\n",
    "print(dict)"
   ]
  },
  {
   "cell_type": "raw",
   "id": "ebd93769-e351-43a8-afe9-7bedf6f812ae",
   "metadata": {},
   "source": []
  },
  {
   "cell_type": "code",
   "execution_count": 67,
   "id": "8575e9a3-bc12-4449-ae1e-6c481def95dd",
   "metadata": {},
   "outputs": [
    {
     "name": "stdout",
     "output_type": "stream",
     "text": [
      "{'Grapes', 'Custord Apple', 'Pineapple', 'Chicko', 'Banana'}\n"
     ]
    }
   ],
   "source": [
    "#30.Write a code to convert a list of strings into a set?\n",
    "\n",
    "Fruits_in_Bag = [\"Banana\", \"Grapes\", \"Pineapple\", \"Chicko\", \"Custord Apple\"]\n",
    "set = set(Fruits_in_Bag)\n",
    "print(set)"
   ]
  },
  {
   "cell_type": "raw",
   "id": "eccc597e-e16a-4f9a-a4eb-85f0dd22b861",
   "metadata": {},
   "source": []
  }
 ],
 "metadata": {
  "kernelspec": {
   "display_name": "Python 3 (ipykernel)",
   "language": "python",
   "name": "python3"
  },
  "language_info": {
   "codemirror_mode": {
    "name": "ipython",
    "version": 3
   },
   "file_extension": ".py",
   "mimetype": "text/x-python",
   "name": "python",
   "nbconvert_exporter": "python",
   "pygments_lexer": "ipython3",
   "version": "3.13.3"
  }
 },
 "nbformat": 4,
 "nbformat_minor": 5
}
